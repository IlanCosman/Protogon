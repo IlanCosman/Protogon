{
 "cells": [
  {
   "cell_type": "code",
   "execution_count": null,
   "metadata": {},
   "outputs": [],
   "source": [
    "def some_stuff(foo: str) -> int:\n",
    "    \"\"\"\n",
    "    This function takes a string `foo` as input and prints it along with a message.\n",
    "    It returns the integer value 5.\n",
    "    \"\"\"\n",
    "    print(\"I'm in another notebook\")\n",
    "    print(foo)\n",
    "    return 5"
   ]
  }
 ],
 "metadata": {
  "language_info": {
   "name": "python"
  }
 },
 "nbformat": 4,
 "nbformat_minor": 2
}
